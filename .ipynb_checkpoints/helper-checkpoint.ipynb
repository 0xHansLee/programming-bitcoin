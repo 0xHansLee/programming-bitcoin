{
 "cells": [
  {
   "cell_type": "code",
   "execution_count": 64,
   "metadata": {},
   "outputs": [],
   "source": [
    "import hashlib\n",
    "\n",
    "BASE58_ALPHABET = '123456789ABCDEFGHJKLMNPQRSTUVWXYZabcdefghijkmnopqrstuvwxyz'\n",
    "\n",
    "def encode_base58(s):\n",
    "    # s : bytes\n",
    "    \n",
    "    # for p2pkh (leading symbol : 1 on mainnet)\n",
    "    count = 0\n",
    "    for c in s:\n",
    "        if c == 0:\n",
    "            count += 1 \n",
    "        else:\n",
    "            break\n",
    "            \n",
    "    num = int.from_bytes(s, 'big')\n",
    "    prefix = '1' * count\n",
    "    result = ''\n",
    "    while num > 0:\n",
    "        num, mod = divmod(num, 58)\n",
    "        result = BASE58_ALPHABET[mod] + result\n",
    "    return prefix + result\n",
    "\n",
    "def hash160(s):\n",
    "    '''sha256 followed by ripemd160'''\n",
    "    return hashlib.new('ripemd160', hashlib.sha256(s).digest()).digest()\n",
    "\n",
    "def hash256(s):\n",
    "    '''double sha256'''\n",
    "    return hashlib.sha256(hashlib.sha256(s).digest()).digest()\n",
    "\n",
    "def encode_base58_checksum(b):\n",
    "    return encode_base58(b + hash256(b)[:4])"
   ]
  }
 ],
 "metadata": {
  "kernelspec": {
   "display_name": "Python 3",
   "language": "python",
   "name": "python3"
  },
  "language_info": {
   "codemirror_mode": {
    "name": "ipython",
    "version": 3
   },
   "file_extension": ".py",
   "mimetype": "text/x-python",
   "name": "python",
   "nbconvert_exporter": "python",
   "pygments_lexer": "ipython3",
   "version": "3.7.5"
  }
 },
 "nbformat": 4,
 "nbformat_minor": 2
}
