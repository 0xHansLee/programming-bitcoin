{
 "cells": [
  {
   "cell_type": "code",
   "execution_count": 10,
   "metadata": {},
   "outputs": [],
   "source": [
    "import hashlib\n",
    "\n",
    "SIGHASH_ALL = 1\n",
    "SIGHASH_NONE = 2\n",
    "SIGHASH_SINGLE = 3\n",
    "BASE58_ALPHABET = '123456789ABCDEFGHJKLMNPQRSTUVWXYZabcdefghijkmnopqrstuvwxyz'\n",
    "\n",
    "\n",
    "def encode_base58(s):\n",
    "    # s : bytes\n",
    "    \n",
    "    # for p2pkh (leading symbol : 1 on mainnet)\n",
    "    count = 0\n",
    "    for c in s:\n",
    "        if c == 0:\n",
    "            count += 1 \n",
    "        else:\n",
    "            break\n",
    "            \n",
    "    num = int.from_bytes(s, 'big')\n",
    "    prefix = '1' * count\n",
    "    result = ''\n",
    "    while num > 0:\n",
    "        num, mod = divmod(num, 58)\n",
    "        result = BASE58_ALPHABET[mod] + result\n",
    "    return prefix + result\n",
    "\n",
    "def decode_base58(s):\n",
    "    # only for pubkey hash (sha256 + ripemd160, resulting in 20 bytes)\n",
    "    num = 0\n",
    "    for c in s:\n",
    "        num *= 58\n",
    "        num += BASE58_ALPHABET.index(c)\n",
    "    combined = num.to_bytes(25, byteorder='big')\n",
    "    checksum = combined[-4:]\n",
    "    if hash256(combined[:-4])[:4] != checksum:\n",
    "        raise ValueError(f'bad address: {checksum} {hash256(combined[:-4])[:4]}')\n",
    "    return combined[1:-4]\n",
    "\n",
    "\n",
    "def hash160(s):\n",
    "    '''sha256 followed by ripemd160'''\n",
    "    return hashlib.new('ripemd160', hashlib.sha256(s).digest()).digest()\n",
    "\n",
    "\n",
    "def hash256(s):\n",
    "    '''double sha256'''\n",
    "    return hashlib.sha256(hashlib.sha256(s).digest()).digest()\n",
    "\n",
    "\n",
    "def encode_base58_checksum(b):\n",
    "    # b includes prefix (mainnet or testnet)\n",
    "    return encode_base58(b + hash256(b)[:4])\n",
    "\n",
    "\n",
    "def little_endian_to_int(b):\n",
    "    '''little_endian_to_int takes byte sequence as a little-endian number.\n",
    "    Returns an integer'''\n",
    "    return int.from_bytes(b, 'little')\n",
    "\n",
    "\n",
    "def int_to_little_endian(n, length):\n",
    "    '''endian_to_little_endian takes an integer and returns the little-endian\n",
    "    byte sequence of length'''\n",
    "    return n.to_bytes(length, 'little')\n",
    "\n",
    "\n",
    "def read_varint(s):\n",
    "    '''read_varint reads a variable integer from a stream'''\n",
    "    i = s.read(1)[0]\n",
    "    if i == 0xfd:\n",
    "        # 0xfd means the next two bytes are the number\n",
    "        return little_endian_to_int(s.read(2))\n",
    "    elif i == 0xfe:\n",
    "        # 0xfe means the next four bytes are the number\n",
    "        return little_endian_to_int(s.read(4))\n",
    "    elif i == 0xff:\n",
    "        # 0xff means the next eight bytes are the number\n",
    "        return little_endian_to_int(s.read(8))\n",
    "    else:\n",
    "        # anything else is just the integer\n",
    "        return i\n",
    "\n",
    "\n",
    "def encode_varint(i):\n",
    "    '''encodes an integer as a varint'''\n",
    "    if i < 0xfd:\n",
    "        return bytes([i])\n",
    "    elif i < 0x10000:\n",
    "        return b'\\xfd' + int_to_little_endian(i, 2)\n",
    "    elif i < 0x100000000:\n",
    "        return b'\\xfe' + int_to_little_endian(i, 4)\n",
    "    elif i < 0x10000000000000000:\n",
    "        return b'\\xff' + int_to_little_endian(i, 8)\n",
    "    else:\n",
    "        raise ValueError(f'integer too large: {i}')"
   ]
  },
  {
   "cell_type": "code",
   "execution_count": 16,
   "metadata": {},
   "outputs": [
    {
     "ename": "AttributeError",
     "evalue": "'bytes' object has no attribute 'to_bytes'",
     "output_type": "error",
     "traceback": [
      "\u001b[0;31m---------------------------------------------------------------------------\u001b[0m",
      "\u001b[0;31mAttributeError\u001b[0m                            Traceback (most recent call last)",
      "\u001b[0;32m<ipython-input-16-a7a2de230721>\u001b[0m in \u001b[0;36m<module>\u001b[0;34m\u001b[0m\n\u001b[0;32m----> 1\u001b[0;31m \u001b[0mlen\u001b[0m\u001b[0;34m(\u001b[0m\u001b[0mint_to_little_endian\u001b[0m\u001b[0;34m(\u001b[0m\u001b[0;34mb'1'\u001b[0m\u001b[0;34m,\u001b[0m\u001b[0;36m2\u001b[0m\u001b[0;34m)\u001b[0m\u001b[0;34m)\u001b[0m\u001b[0;34m\u001b[0m\u001b[0;34m\u001b[0m\u001b[0m\n\u001b[0m",
      "\u001b[0;32m<ipython-input-10-20dff5025a20>\u001b[0m in \u001b[0;36mint_to_little_endian\u001b[0;34m(n, length)\u001b[0m\n\u001b[1;32m     48\u001b[0m     '''endian_to_little_endian takes an integer and returns the little-endian\n\u001b[1;32m     49\u001b[0m     byte sequence of length'''\n\u001b[0;32m---> 50\u001b[0;31m     \u001b[0;32mreturn\u001b[0m \u001b[0mn\u001b[0m\u001b[0;34m.\u001b[0m\u001b[0mto_bytes\u001b[0m\u001b[0;34m(\u001b[0m\u001b[0mlength\u001b[0m\u001b[0;34m,\u001b[0m \u001b[0;34m'little'\u001b[0m\u001b[0;34m)\u001b[0m\u001b[0;34m\u001b[0m\u001b[0;34m\u001b[0m\u001b[0m\n\u001b[0m\u001b[1;32m     51\u001b[0m \u001b[0;34m\u001b[0m\u001b[0m\n\u001b[1;32m     52\u001b[0m \u001b[0;34m\u001b[0m\u001b[0m\n",
      "\u001b[0;31mAttributeError\u001b[0m: 'bytes' object has no attribute 'to_bytes'"
     ]
    }
   ],
   "source": [
    "len(int_to_little_endian(,2))"
   ]
  },
  {
   "cell_type": "code",
   "execution_count": 15,
   "metadata": {},
   "outputs": [
    {
     "ename": "TypeError",
     "evalue": "object of type 'int' has no len()",
     "output_type": "error",
     "traceback": [
      "\u001b[0;31m---------------------------------------------------------------------------\u001b[0m",
      "\u001b[0;31mTypeError\u001b[0m                                 Traceback (most recent call last)",
      "\u001b[0;32m<ipython-input-15-1cf91bb60cc0>\u001b[0m in \u001b[0;36m<module>\u001b[0;34m\u001b[0m\n\u001b[0;32m----> 1\u001b[0;31m \u001b[0mlen\u001b[0m\u001b[0;34m(\u001b[0m\u001b[0;36m1\u001b[0m\u001b[0;34m)\u001b[0m\u001b[0;34m\u001b[0m\u001b[0;34m\u001b[0m\u001b[0m\n\u001b[0m",
      "\u001b[0;31mTypeError\u001b[0m: object of type 'int' has no len()"
     ]
    }
   ],
   "source": [
    "len(1)"
   ]
  },
  {
   "cell_type": "code",
   "execution_count": null,
   "metadata": {},
   "outputs": [],
   "source": []
  }
 ],
 "metadata": {
  "kernelspec": {
   "display_name": "Python 3",
   "language": "python",
   "name": "python3"
  },
  "language_info": {
   "codemirror_mode": {
    "name": "ipython",
    "version": 3
   },
   "file_extension": ".py",
   "mimetype": "text/x-python",
   "name": "python",
   "nbconvert_exporter": "python",
   "pygments_lexer": "ipython3",
   "version": "3.7.5"
  }
 },
 "nbformat": 4,
 "nbformat_minor": 2
}
