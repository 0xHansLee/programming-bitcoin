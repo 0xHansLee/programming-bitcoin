{
 "cells": [
  {
   "cell_type": "code",
   "execution_count": 2,
   "metadata": {},
   "outputs": [],
   "source": [
    "from helper import (\n",
    "    bit_field_to_bytes,\n",
    "    encode_varint,\n",
    "    int_to_little_endian,\n",
    "    murmur3,\n",
    ")\n",
    "from network import GenericMessage\n",
    "\n",
    "\n",
    "BIP37_CONSTANT = 0xfba4c795\n",
    "\n",
    "class BloomFilter:\n",
    "    \n",
    "    def __init__(self, size, function_count, tweak):\n",
    "        self.size = size # in byte\n",
    "        self.bit_field = [0] * (size * 8)\n",
    "        self.function_count = function_count\n",
    "        self.tweak = tweak\n",
    "        \n",
    "    def add(self, item):\n",
    "        '''Add an item to the filter'''\n",
    "        for i in range(self.function_count):\n",
    "            seed = i * BIP37_CONSTANT + self.tweak\n",
    "            hmur = murmur3(item, seed)\n",
    "            bit = hmur % (self.size * 8)\n",
    "            self.bit_field[bit] = 1\n",
    "            \n",
    "    def filter_bytes(self):\n",
    "        return bit_field_to_bytes(self.bit_field)\n",
    "    \n",
    "    def filterload(self, flag=1):\n",
    "        command = b'filterload'\n",
    "        \n",
    "        payload = encode_varint(self.size)\n",
    "        payload += self.filter_bytes()\n",
    "        payload += int_to_little_endian(self.function_count, 4)\n",
    "        payload += int_to_little_endian(self.tweak, 4)\n",
    "        payload += int_to_little_endian(flag, 1)\n",
    "        return GenericMessage(command, payload)"
   ]
  },
  {
   "cell_type": "code",
   "execution_count": 4,
   "metadata": {},
   "outputs": [
    {
     "name": "stdout",
     "output_type": "stream",
     "text": [
      "4000600a080000010940\n",
      "[0, 0, 0, 0, 0, 0, 1, 0, 0, 0, 0, 0, 0, 0, 0, 0, 0, 0, 0, 0, 0, 1, 1, 0, 0, 1, 0, 1, 0, 0, 0, 0, 0, 0, 0, 1, 0, 0, 0, 0, 0, 0, 0, 0, 0, 0, 0, 0, 0, 0, 0, 0, 0, 0, 0, 0, 1, 0, 0, 0, 0, 0, 0, 0, 1, 0, 0, 1, 0, 0, 0, 0, 0, 0, 0, 0, 0, 0, 1, 0]\n"
     ]
    }
   ],
   "source": [
    "input = [b'Hello World', b'Goodbye!']\n",
    "size = 10\n",
    "count = 5\n",
    "tweak = 99\n",
    "bit_field_size = size * 8\n",
    "bit_field = [0] * bit_field_size\n",
    "for item in input:\n",
    "    for i in range(count):\n",
    "        seed = i * BIP37_CONSTANT + tweak\n",
    "        h = murmur3(item, seed)\n",
    "        bit = h % bit_field_size\n",
    "        bit_field[bit] = 1\n",
    "print(bit_field_to_bytes(bit_field).hex())\n",
    "print(bit_field)"
   ]
  },
  {
   "cell_type": "code",
   "execution_count": null,
   "metadata": {},
   "outputs": [],
   "source": []
  }
 ],
 "metadata": {
  "kernelspec": {
   "display_name": "Python 3",
   "language": "python",
   "name": "python3"
  },
  "language_info": {
   "codemirror_mode": {
    "name": "ipython",
    "version": 3
   },
   "file_extension": ".py",
   "mimetype": "text/x-python",
   "name": "python",
   "nbconvert_exporter": "python",
   "pygments_lexer": "ipython3",
   "version": "3.7.5"
  }
 },
 "nbformat": 4,
 "nbformat_minor": 2
}
